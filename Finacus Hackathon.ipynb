{
 "cells": [
  {
   "cell_type": "code",
   "execution_count": 1,
   "metadata": {},
   "outputs": [
    {
     "name": "stderr",
     "output_type": "stream",
     "text": [
      "C:\\ProgramData\\Anaconda3\\lib\\site-packages\\sklearn\\cross_validation.py:41: DeprecationWarning: This module was deprecated in version 0.18 in favor of the model_selection module into which all the refactored classes and functions are moved. Also note that the interface of the new CV iterators are different from that of this module. This module will be removed in 0.20.\n",
      "  \"This module will be removed in 0.20.\", DeprecationWarning)\n"
     ]
    }
   ],
   "source": [
    "import pandas as pd\n",
    "import math\n",
    "import numpy as np\n",
    "from sklearn.linear_model import LogisticRegression\n",
    "from sklearn.metrics import roc_auc_score\n",
    "from sklearn.cross_validation import train_test_split,KFold"
   ]
  },
  {
   "cell_type": "code",
   "execution_count": 2,
   "metadata": {},
   "outputs": [],
   "source": [
    "data_file=r'R:\\DataScience\\Python\\Finacus_Data\\Data\\Data\\train.csv'\n",
    "train=pd.read_csv(data_file)\n",
    "\n",
    "data_file1=r'R:\\DataScience\\Python\\Finacus_Data\\Data\\Data\\Geo_scores.csv'\n",
    "Geo_scores=pd.read_csv(data_file1)\n",
    "\n",
    "data_file2=r'R:\\DataScience\\Python\\Finacus_Data\\Data\\Data\\instance_scores.csv'\n",
    "instance_scores=pd.read_csv(data_file2)\n",
    "\n",
    "data_file3=r'R:\\DataScience\\Python\\Finacus_Data\\Data\\Data\\Lambda_wts.csv'\n",
    "Lambda_wts=pd.read_csv(data_file3)\n",
    "\n",
    "data_file4=r'R:\\DataScience\\Python\\Finacus_Data\\Data\\Data\\Qset_tats.csv'\n",
    "Qset_tats=pd.read_csv(data_file4)\n",
    "\n",
    "data_file5=r'R:\\DataScience\\Python\\Finacus_Data\\Data\\Data\\test_share.csv'\n",
    "test_share=pd.read_csv(data_file5)\n",
    "\n"
   ]
  },
  {
   "cell_type": "code",
   "execution_count": 3,
   "metadata": {},
   "outputs": [],
   "source": [
    "train[\"Flag\"]=\"train\""
   ]
  },
  {
   "cell_type": "code",
   "execution_count": 4,
   "metadata": {},
   "outputs": [],
   "source": [
    "test_share[\"Flag\"]=\"test\""
   ]
  },
  {
   "cell_type": "code",
   "execution_count": 5,
   "metadata": {},
   "outputs": [],
   "source": [
    "data=pd.concat([train, test_share])"
   ]
  },
  {
   "cell_type": "code",
   "execution_count": 6,
   "metadata": {},
   "outputs": [
    {
     "data": {
      "text/plain": [
       "train    227845\n",
       "test      56962\n",
       "Name: Flag, dtype: int64"
      ]
     },
     "execution_count": 6,
     "metadata": {},
     "output_type": "execute_result"
    }
   ],
   "source": [
    "data[\"Flag\"].value_counts()"
   ]
  },
  {
   "cell_type": "code",
   "execution_count": 7,
   "metadata": {},
   "outputs": [
    {
     "data": {
      "text/plain": [
       "0"
      ]
     },
     "execution_count": 7,
     "metadata": {},
     "output_type": "execute_result"
    }
   ],
   "source": [
    "Geo_scores['geo_score'].value_counts().isnull().sum()"
   ]
  },
  {
   "cell_type": "code",
   "execution_count": 8,
   "metadata": {},
   "outputs": [
    {
     "data": {
      "text/plain": [
       "0"
      ]
     },
     "execution_count": 8,
     "metadata": {},
     "output_type": "execute_result"
    }
   ],
   "source": [
    "instance_scores['instance_scores'].value_counts().isnull().sum()"
   ]
  },
  {
   "cell_type": "code",
   "execution_count": 9,
   "metadata": {},
   "outputs": [
    {
     "data": {
      "text/plain": [
       "0"
      ]
     },
     "execution_count": 9,
     "metadata": {},
     "output_type": "execute_result"
    }
   ],
   "source": [
    "Qset_tats['qsets_normalized_tat'].value_counts().isnull().sum()"
   ]
  },
  {
   "cell_type": "code",
   "execution_count": 10,
   "metadata": {},
   "outputs": [
    {
     "data": {
      "text/plain": [
       "0"
      ]
     },
     "execution_count": 10,
     "metadata": {},
     "output_type": "execute_result"
    }
   ],
   "source": [
    "Lambda_wts['lambda_wt'].value_counts().isnull().sum()"
   ]
  },
  {
   "cell_type": "code",
   "execution_count": 11,
   "metadata": {},
   "outputs": [
    {
     "data": {
      "text/html": [
       "<div>\n",
       "<style scoped>\n",
       "    .dataframe tbody tr th:only-of-type {\n",
       "        vertical-align: middle;\n",
       "    }\n",
       "\n",
       "    .dataframe tbody tr th {\n",
       "        vertical-align: top;\n",
       "    }\n",
       "\n",
       "    .dataframe thead th {\n",
       "        text-align: right;\n",
       "    }\n",
       "</style>\n",
       "<table border=\"1\" class=\"dataframe\">\n",
       "  <thead>\n",
       "    <tr style=\"text-align: right;\">\n",
       "      <th></th>\n",
       "      <th>id</th>\n",
       "      <th>geo_score</th>\n",
       "    </tr>\n",
       "  </thead>\n",
       "  <tbody>\n",
       "    <tr>\n",
       "      <th>0</th>\n",
       "      <td>0</td>\n",
       "      <td>-0.6200</td>\n",
       "    </tr>\n",
       "    <tr>\n",
       "      <th>1</th>\n",
       "      <td>1</td>\n",
       "      <td>1.3375</td>\n",
       "    </tr>\n",
       "    <tr>\n",
       "      <th>2</th>\n",
       "      <td>2</td>\n",
       "      <td>0.0700</td>\n",
       "    </tr>\n",
       "    <tr>\n",
       "      <th>3</th>\n",
       "      <td>3</td>\n",
       "      <td>0.1800</td>\n",
       "    </tr>\n",
       "    <tr>\n",
       "      <th>4</th>\n",
       "      <td>4</td>\n",
       "      <td>0.5400</td>\n",
       "    </tr>\n",
       "  </tbody>\n",
       "</table>\n",
       "</div>"
      ],
      "text/plain": [
       "   id  geo_score\n",
       "0   0    -0.6200\n",
       "1   1     1.3375\n",
       "2   2     0.0700\n",
       "3   3     0.1800\n",
       "4   4     0.5400"
      ]
     },
     "execution_count": 11,
     "metadata": {},
     "output_type": "execute_result"
    }
   ],
   "source": [
    "Geo_unique=Geo_scores.groupby('id',as_index=False)[['geo_score']].mean()\n",
    "Geo_unique.head()"
   ]
  },
  {
   "cell_type": "code",
   "execution_count": 12,
   "metadata": {
    "scrolled": true
   },
   "outputs": [
    {
     "data": {
      "text/html": [
       "<div>\n",
       "<style scoped>\n",
       "    .dataframe tbody tr th:only-of-type {\n",
       "        vertical-align: middle;\n",
       "    }\n",
       "\n",
       "    .dataframe tbody tr th {\n",
       "        vertical-align: top;\n",
       "    }\n",
       "\n",
       "    .dataframe thead th {\n",
       "        text-align: right;\n",
       "    }\n",
       "</style>\n",
       "<table border=\"1\" class=\"dataframe\">\n",
       "  <thead>\n",
       "    <tr style=\"text-align: right;\">\n",
       "      <th></th>\n",
       "      <th>id</th>\n",
       "      <th>instance_scores</th>\n",
       "    </tr>\n",
       "  </thead>\n",
       "  <tbody>\n",
       "    <tr>\n",
       "      <th>0</th>\n",
       "      <td>0</td>\n",
       "      <td>0.09</td>\n",
       "    </tr>\n",
       "    <tr>\n",
       "      <th>1</th>\n",
       "      <td>1</td>\n",
       "      <td>-0.17</td>\n",
       "    </tr>\n",
       "    <tr>\n",
       "      <th>2</th>\n",
       "      <td>2</td>\n",
       "      <td>0.21</td>\n",
       "    </tr>\n",
       "    <tr>\n",
       "      <th>3</th>\n",
       "      <td>3</td>\n",
       "      <td>-0.05</td>\n",
       "    </tr>\n",
       "    <tr>\n",
       "      <th>4</th>\n",
       "      <td>4</td>\n",
       "      <td>0.75</td>\n",
       "    </tr>\n",
       "  </tbody>\n",
       "</table>\n",
       "</div>"
      ],
      "text/plain": [
       "   id  instance_scores\n",
       "0   0             0.09\n",
       "1   1            -0.17\n",
       "2   2             0.21\n",
       "3   3            -0.05\n",
       "4   4             0.75"
      ]
     },
     "execution_count": 12,
     "metadata": {},
     "output_type": "execute_result"
    }
   ],
   "source": [
    "Instance_unique=round(instance_scores.groupby(\"id\",as_index=False)[[\"instance_scores\"]].mean(),2)\n",
    "Instance_unique.head()"
   ]
  },
  {
   "cell_type": "code",
   "execution_count": 13,
   "metadata": {},
   "outputs": [
    {
     "data": {
      "text/html": [
       "<div>\n",
       "<style scoped>\n",
       "    .dataframe tbody tr th:only-of-type {\n",
       "        vertical-align: middle;\n",
       "    }\n",
       "\n",
       "    .dataframe tbody tr th {\n",
       "        vertical-align: top;\n",
       "    }\n",
       "\n",
       "    .dataframe thead th {\n",
       "        text-align: right;\n",
       "    }\n",
       "</style>\n",
       "<table border=\"1\" class=\"dataframe\">\n",
       "  <thead>\n",
       "    <tr style=\"text-align: right;\">\n",
       "      <th></th>\n",
       "      <th>id</th>\n",
       "      <th>qsets_normalized_tat</th>\n",
       "    </tr>\n",
       "  </thead>\n",
       "  <tbody>\n",
       "    <tr>\n",
       "      <th>0</th>\n",
       "      <td>0</td>\n",
       "      <td>0.26</td>\n",
       "    </tr>\n",
       "    <tr>\n",
       "      <th>1</th>\n",
       "      <td>1</td>\n",
       "      <td>-0.11</td>\n",
       "    </tr>\n",
       "    <tr>\n",
       "      <th>2</th>\n",
       "      <td>2</td>\n",
       "      <td>1.11</td>\n",
       "    </tr>\n",
       "    <tr>\n",
       "      <th>3</th>\n",
       "      <td>3</td>\n",
       "      <td>-0.85</td>\n",
       "    </tr>\n",
       "    <tr>\n",
       "      <th>4</th>\n",
       "      <td>4</td>\n",
       "      <td>-0.24</td>\n",
       "    </tr>\n",
       "  </tbody>\n",
       "</table>\n",
       "</div>"
      ],
      "text/plain": [
       "   id  qsets_normalized_tat\n",
       "0   0                  0.26\n",
       "1   1                 -0.11\n",
       "2   2                  1.11\n",
       "3   3                 -0.85\n",
       "4   4                 -0.24"
      ]
     },
     "execution_count": 13,
     "metadata": {},
     "output_type": "execute_result"
    }
   ],
   "source": [
    "Qset_unique=round(Qset_tats.groupby(\"id\",as_index=False)[[\"qsets_normalized_tat\"]].mean(),2)\n",
    "Qset_unique.head()"
   ]
  },
  {
   "cell_type": "code",
   "execution_count": 14,
   "metadata": {},
   "outputs": [
    {
     "data": {
      "text/html": [
       "<div>\n",
       "<style scoped>\n",
       "    .dataframe tbody tr th:only-of-type {\n",
       "        vertical-align: middle;\n",
       "    }\n",
       "\n",
       "    .dataframe tbody tr th {\n",
       "        vertical-align: top;\n",
       "    }\n",
       "\n",
       "    .dataframe thead th {\n",
       "        text-align: right;\n",
       "    }\n",
       "</style>\n",
       "<table border=\"1\" class=\"dataframe\">\n",
       "  <thead>\n",
       "    <tr style=\"text-align: right;\">\n",
       "      <th></th>\n",
       "      <th>Group</th>\n",
       "      <th>lambda_wt</th>\n",
       "    </tr>\n",
       "  </thead>\n",
       "  <tbody>\n",
       "    <tr>\n",
       "      <th>0</th>\n",
       "      <td>Grp0</td>\n",
       "      <td>-0.31</td>\n",
       "    </tr>\n",
       "    <tr>\n",
       "      <th>1</th>\n",
       "      <td>Grp1</td>\n",
       "      <td>-0.14</td>\n",
       "    </tr>\n",
       "    <tr>\n",
       "      <th>2</th>\n",
       "      <td>Grp10</td>\n",
       "      <td>0.36</td>\n",
       "    </tr>\n",
       "    <tr>\n",
       "      <th>3</th>\n",
       "      <td>Grp100</td>\n",
       "      <td>-0.25</td>\n",
       "    </tr>\n",
       "    <tr>\n",
       "      <th>4</th>\n",
       "      <td>Grp1000</td>\n",
       "      <td>-13.91</td>\n",
       "    </tr>\n",
       "  </tbody>\n",
       "</table>\n",
       "</div>"
      ],
      "text/plain": [
       "     Group  lambda_wt\n",
       "0     Grp0      -0.31\n",
       "1     Grp1      -0.14\n",
       "2    Grp10       0.36\n",
       "3   Grp100      -0.25\n",
       "4  Grp1000     -13.91"
      ]
     },
     "execution_count": 14,
     "metadata": {},
     "output_type": "execute_result"
    }
   ],
   "source": [
    "Lambda_unique=round(Lambda_wts.groupby(\"Group\",as_index=False)[[\"lambda_wt\"]].mean(),2)\n",
    "Lambda_unique.head()"
   ]
  },
  {
   "cell_type": "code",
   "execution_count": 15,
   "metadata": {},
   "outputs": [],
   "source": [
    "data=pd.merge(data, Geo_unique, on='id', how='left')"
   ]
  },
  {
   "cell_type": "code",
   "execution_count": 16,
   "metadata": {},
   "outputs": [
    {
     "data": {
      "text/plain": [
       "(284807, 30)"
      ]
     },
     "execution_count": 16,
     "metadata": {},
     "output_type": "execute_result"
    }
   ],
   "source": [
    "data.shape"
   ]
  },
  {
   "cell_type": "code",
   "execution_count": 17,
   "metadata": {},
   "outputs": [],
   "source": [
    "data=pd.merge(data, Instance_unique, on='id', how='left')"
   ]
  },
  {
   "cell_type": "code",
   "execution_count": 18,
   "metadata": {},
   "outputs": [
    {
     "data": {
      "text/plain": [
       "(284807, 31)"
      ]
     },
     "execution_count": 18,
     "metadata": {},
     "output_type": "execute_result"
    }
   ],
   "source": [
    "data.shape"
   ]
  },
  {
   "cell_type": "code",
   "execution_count": 19,
   "metadata": {},
   "outputs": [],
   "source": [
    "data=pd.merge(data, Qset_unique, on='id', how='left')"
   ]
  },
  {
   "cell_type": "code",
   "execution_count": 20,
   "metadata": {},
   "outputs": [
    {
     "data": {
      "text/plain": [
       "(284807, 32)"
      ]
     },
     "execution_count": 20,
     "metadata": {},
     "output_type": "execute_result"
    }
   ],
   "source": [
    "data.shape"
   ]
  },
  {
   "cell_type": "code",
   "execution_count": 21,
   "metadata": {},
   "outputs": [],
   "source": [
    "data=pd.merge(data, Lambda_unique, on='Group', how='left')"
   ]
  },
  {
   "cell_type": "code",
   "execution_count": 22,
   "metadata": {},
   "outputs": [
    {
     "data": {
      "text/plain": [
       "(284807, 33)"
      ]
     },
     "execution_count": 22,
     "metadata": {},
     "output_type": "execute_result"
    }
   ],
   "source": [
    "data.shape"
   ]
  },
  {
   "cell_type": "code",
   "execution_count": 23,
   "metadata": {},
   "outputs": [
    {
     "data": {
      "text/plain": [
       "Cred1                   float64\n",
       "Cred2                   float64\n",
       "Cred3                   float64\n",
       "Cred4                   float64\n",
       "Cred5                   float64\n",
       "Cred6                   float64\n",
       "Dem1                    float64\n",
       "Dem2                    float64\n",
       "Dem3                    float64\n",
       "Dem4                    float64\n",
       "Dem5                    float64\n",
       "Dem6                    float64\n",
       "Dem7                    float64\n",
       "Dem8                    float64\n",
       "Dem9                    float64\n",
       "Flag                     object\n",
       "Group                    object\n",
       "Normalised_FNT          float64\n",
       "Per1                    float64\n",
       "Per2                    float64\n",
       "Per3                    float64\n",
       "Per4                    float64\n",
       "Per5                    float64\n",
       "Per6                    float64\n",
       "Per7                    float64\n",
       "Per8                    float64\n",
       "Per9                    float64\n",
       "Target                  float64\n",
       "id                        int64\n",
       "geo_score               float64\n",
       "instance_scores         float64\n",
       "qsets_normalized_tat    float64\n",
       "lambda_wt               float64\n",
       "dtype: object"
      ]
     },
     "execution_count": 23,
     "metadata": {},
     "output_type": "execute_result"
    }
   ],
   "source": [
    "data.dtypes"
   ]
  },
  {
   "cell_type": "code",
   "execution_count": 24,
   "metadata": {},
   "outputs": [
    {
     "data": {
      "text/plain": [
       "1"
      ]
     },
     "execution_count": 24,
     "metadata": {},
     "output_type": "execute_result"
    }
   ],
   "source": [
    "data.isna().any().sum()"
   ]
  },
  {
   "cell_type": "code",
   "execution_count": 25,
   "metadata": {},
   "outputs": [],
   "source": [
    "Training_data=data.loc[data['Flag'] == 'train']\n",
    "Testing_data=data.loc[data['Flag'] == 'test']"
   ]
  },
  {
   "cell_type": "code",
   "execution_count": null,
   "metadata": {},
   "outputs": [],
   "source": [
    "Training_data.shape"
   ]
  },
  {
   "cell_type": "code",
   "execution_count": null,
   "metadata": {},
   "outputs": [],
   "source": [
    "Testing_data.shape"
   ]
  },
  {
   "cell_type": "code",
   "execution_count": 26,
   "metadata": {},
   "outputs": [],
   "source": [
    "from sklearn.decomposition import PCA,FactorAnalysis\n",
    "from sklearn.preprocessing import scale"
   ]
  },
  {
   "cell_type": "code",
   "execution_count": 27,
   "metadata": {},
   "outputs": [],
   "source": [
    "Training_data=Training_data.drop([\"Flag\",\"id\",\"Group\"],1)"
   ]
  },
  {
   "cell_type": "code",
   "execution_count": 28,
   "metadata": {},
   "outputs": [
    {
     "data": {
      "text/plain": [
       "<matplotlib.axes._subplots.AxesSubplot at 0x18fbc339dd8>"
      ]
     },
     "execution_count": 28,
     "metadata": {},
     "output_type": "execute_result"
    },
    {
     "data": {
      "image/png": "[encoded data removed]",
      "text/plain": [
       "<Figure size 432x288 with 2 Axes>"
      ]
     },
     "metadata": {},
     "output_type": "display_data"
    }
   ],
   "source": [
    "import seaborn as sns\n",
    "%matplotlib inline\n",
    "sns.heatmap(Training_data.corr())"
   ]
  },
  {
   "cell_type": "code",
   "execution_count": 29,
   "metadata": {},
   "outputs": [],
   "source": [
    "X=Training_data.copy()\n",
    "X=scale(X)"
   ]
  },
  {
   "cell_type": "code",
   "execution_count": 30,
   "metadata": {},
   "outputs": [
    {
     "data": {
      "text/plain": [
       "PCA(copy=True, iterated_power='auto', n_components=29, random_state=None,\n",
       "  svd_solver='auto', tol=0.0, whiten=False)"
      ]
     },
     "execution_count": 30,
     "metadata": {},
     "output_type": "execute_result"
    }
   ],
   "source": [
    "pca=PCA(n_components=29)\n",
    "pca.fit(X)"
   ]
  },
  {
   "cell_type": "code",
   "execution_count": 31,
   "metadata": {},
   "outputs": [
    {
     "data": {
      "text/plain": [
       "array([[-6.52090541e-02,  2.31831168e-03, -2.38499643e-02,\n",
       "         4.33632198e-03,  3.55788561e-02,  2.00606977e-03,\n",
       "         3.64579992e-03,  1.91674161e-03, -5.40517038e-04,\n",
       "        -2.60626107e-03,  2.20347687e-02, -3.69312881e-02,\n",
       "         2.15364416e-01,  6.72040187e-02, -4.08056186e-02,\n",
       "         7.09876385e-01, -1.69372390e-01, -3.89990303e-01,\n",
       "        -1.58949092e-01,  7.45263430e-02, -3.00370880e-01,\n",
       "         1.70103782e-01,  3.00775769e-01, -7.95135903e-02,\n",
       "        -3.47751622e-02,  1.51807155e-02, -1.44876219e-02,\n",
       "        -7.77612306e-02, -3.05189226e-03,  1.65214387e-02],\n",
       "       [-4.44579987e-03, -6.11614134e-03,  7.23806792e-03,\n",
       "         1.55244108e-03,  2.08180473e-03,  1.30922065e-02,\n",
       "         1.43988367e-01, -4.22244864e-03, -6.37249838e-03,\n",
       "        -1.90506931e-01, -1.13326938e-01,  3.36882124e-02,\n",
       "         2.27880339e-02,  1.07539496e-02,  7.10415199e-03,\n",
       "        -1.30797120e-02, -1.04118181e-01,  1.07309294e-01,\n",
       "        -1.94281485e-01,  1.29441815e-01, -9.81012460e-02,\n",
       "        -4.90062647e-02, -1.95177224e-01,  3.75237405e-02,\n",
       "        -9.95243326e-02,  7.05481699e-01, -2.54581234e-01,\n",
       "        -2.13459916e-01, -3.15988709e-01, -2.85613020e-01],\n",
       "       [ 3.00733719e-01, -1.23107089e-02,  1.25690628e-02,\n",
       "         1.12119159e-02, -1.65699715e-01,  8.59426543e-02,\n",
       "        -1.09302913e-01, -5.94514852e-02, -3.61725333e-02,\n",
       "         4.78547321e-02, -3.31365239e-02, -6.35310232e-02,\n",
       "         1.13318957e-01, -5.21400947e-01,  2.13774557e-01,\n",
       "        -4.07956044e-03, -2.07592318e-01,  7.81757686e-02,\n",
       "        -1.29484141e-01,  3.62823002e-02, -1.14202470e-01,\n",
       "         8.96258358e-02, -2.90788346e-01, -4.76235142e-01,\n",
       "        -1.23735709e-01, -1.60169031e-02,  1.60285983e-01,\n",
       "        -1.81161202e-01,  6.96814725e-02,  2.02474379e-01],\n",
       "       [ 1.04328516e-01, -1.73718024e-03,  1.40619888e-01,\n",
       "         4.13824604e-02,  8.31074466e-02,  4.72225246e-01,\n",
       "         8.95055483e-02,  7.57972812e-02,  7.78539473e-02,\n",
       "         1.46861469e-01, -4.00101316e-02,  7.06164964e-02,\n",
       "        -6.47380633e-01, -1.94181117e-01, -2.03776976e-02,\n",
       "        -1.96382805e-02, -2.34541202e-01, -3.00964190e-01,\n",
       "        -8.69894195e-02,  1.07227199e-01,  6.17540200e-02,\n",
       "        -2.37431375e-02,  1.11971280e-01, -7.45010990e-03,\n",
       "         1.24899488e-01,  2.48020741e-03, -4.22954363e-02,\n",
       "         1.29450970e-01, -5.52367170e-02, -1.15379138e-01],\n",
       "       [-3.51767210e-01,  6.73444458e-02, -1.75546957e-01,\n",
       "        -7.48256225e-02,  4.59264547e-01, -3.76110178e-01,\n",
       "        -5.63643684e-02,  3.65450423e-05,  1.04123051e-01,\n",
       "         1.15521224e-01,  9.48822889e-03,  8.79518269e-02,\n",
       "        -3.57747065e-01, -1.73877238e-01,  5.12683152e-02,\n",
       "        -1.34544841e-02, -4.19841321e-02,  3.39573813e-01,\n",
       "        -1.23505324e-01,  1.01961227e-01, -2.68272839e-01,\n",
       "         1.63820628e-01,  1.26147993e-01, -1.49452544e-01,\n",
       "        -1.25612186e-02, -1.20742716e-03,  2.83302597e-02,\n",
       "         7.18404446e-04, -1.60533677e-02,  7.55745794e-02],\n",
       "       [ 1.15128242e-01, -5.39849051e-02, -2.02344714e-01,\n",
       "        -7.84976362e-02,  7.10189842e-02, -9.64270545e-02,\n",
       "         3.92651224e-02, -1.66169195e-01,  8.91545752e-02,\n",
       "         1.39614286e-01,  2.00947461e-01, -5.80641027e-02,\n",
       "         9.77274657e-02, -1.97956093e-01,  1.88987926e-01,\n",
       "        -3.78177353e-03,  1.58343779e-01, -9.17775130e-02,\n",
       "         2.29899331e-01, -1.15776239e-01,  9.80472250e-02,\n",
       "         4.66383775e-03,  1.74335789e-01, -3.02971852e-01,\n",
       "         1.20493958e-01,  1.30691749e-02, -2.59135791e-01,\n",
       "         3.91450956e-02,  1.49869767e-01, -6.32583707e-01],\n",
       "       [ 8.92807220e-02,  7.26969243e-03,  2.94960005e-01,\n",
       "         5.78602442e-02, -1.05770633e-02, -1.40868408e-01,\n",
       "         3.47782832e-01,  2.27828483e-01, -1.79057060e-01,\n",
       "        -8.03175586e-02,  1.28421196e-01,  1.57131667e-01,\n",
       "         2.06441442e-01, -2.53219664e-01, -4.12474117e-01,\n",
       "        -4.35875564e-04, -1.63216801e-01,  2.36128273e-01,\n",
       "        -5.21867752e-02, -1.26085128e-01,  3.65581783e-03,\n",
       "         4.05262166e-02,  1.66585646e-01, -1.35630723e-01,\n",
       "         3.80267898e-01, -2.19109772e-03,  6.00709674e-03,\n",
       "         2.22965941e-01, -9.05179897e-02, -2.95472643e-02],\n",
       "       [-2.93857710e-01, -1.31291471e-01, -1.02774870e-01,\n",
       "         3.16800155e-01, -3.77759422e-02,  7.29676071e-02,\n",
       "         2.31190714e-01, -7.74589444e-03,  1.85652658e-01,\n",
       "        -4.97795664e-01, -3.43661633e-03,  4.25138870e-01,\n",
       "         2.19490892e-02, -4.56701273e-02,  2.27894919e-01,\n",
       "         2.42160694e-03, -1.07070211e-02, -1.01493422e-01,\n",
       "         7.50139856e-02, -6.58790259e-02,  1.71196691e-01,\n",
       "         9.36776117e-02,  1.25214131e-02, -1.97679140e-01,\n",
       "        -2.12425004e-01,  6.68257232e-03,  1.10184992e-01,\n",
       "         2.13934571e-01,  7.47424531e-02,  3.64475826e-02],\n",
       "       [-1.73646378e-01, -2.07375038e-01,  1.10039359e-01,\n",
       "         3.28803072e-01, -7.30039451e-02,  3.88257500e-02,\n",
       "        -3.93629253e-01,  2.65966878e-01, -6.85879409e-02,\n",
       "         1.67067025e-01,  3.25155693e-01,  5.31126644e-02,\n",
       "        -1.93657776e-03,  9.10955343e-02,  1.43927136e-01,\n",
       "        -5.13456382e-05, -2.68160477e-01,  9.52126540e-02,\n",
       "         8.13025389e-02, -2.96131768e-01, -1.65981626e-01,\n",
       "        -3.80716387e-02, -6.67700051e-02,  7.34770686e-02,\n",
       "        -2.34677932e-02, -4.49584288e-03,  2.40233658e-01,\n",
       "        -6.90311209e-02, -2.04943269e-01, -2.91095685e-01],\n",
       "       [ 6.52267103e-02, -8.06176385e-02,  4.05942079e-01,\n",
       "         1.93517210e-01,  1.60093654e-01, -1.62339340e-02,\n",
       "         1.14055012e-01,  2.69508130e-01, -1.03392258e-02,\n",
       "         2.61576207e-01,  1.04252232e-01,  1.67357938e-01,\n",
       "         6.62203406e-02, -1.76244283e-02,  1.86219029e-02,\n",
       "        -6.86385824e-03,  3.87505384e-01, -3.50618964e-02,\n",
       "         1.55307000e-01,  4.02389296e-01,  1.09364901e-01,\n",
       "         2.71267096e-01,  1.77692470e-02, -2.48526074e-02,\n",
       "        -2.41409712e-01,  7.55971114e-03,  8.85563191e-03,\n",
       "        -2.81950443e-01,  2.46998674e-02, -2.34177458e-02],\n",
       "       [ 3.85794717e-03,  3.94247328e-01,  1.57491401e-01,\n",
       "        -7.31988944e-02, -6.28135229e-02, -9.67035822e-03,\n",
       "        -2.49747820e-01, -7.27431359e-02,  1.93948725e-01,\n",
       "         1.38077636e-01, -1.52453081e-01,  1.83777696e-01,\n",
       "         2.12343732e-01,  6.21201880e-02,  3.04299946e-01,\n",
       "         1.21626167e-03,  7.19790806e-02, -2.33848150e-02,\n",
       "        -7.53199646e-02,  1.87916384e-01,  7.70315930e-02,\n",
       "         1.86887290e-01, -5.00846084e-02, -3.89073066e-02,\n",
       "         2.48673956e-01, -8.43067573e-04,  8.97617381e-02,\n",
       "         3.96797472e-01, -4.05684178e-01, -6.26141618e-02],\n",
       "       [-1.39485270e-02, -4.46878925e-01,  7.70392131e-02,\n",
       "         7.09718248e-02, -7.33480896e-02, -1.27178658e-02,\n",
       "         3.19797457e-01,  6.02315640e-02,  4.28135510e-01,\n",
       "         1.92064035e-01, -6.88747834e-02, -4.84471563e-01,\n",
       "         4.27143810e-02,  1.38985571e-01,  1.98688050e-01,\n",
       "        -8.60626212e-04, -5.68059201e-02,  1.52845019e-01,\n",
       "        -1.12589739e-02, -2.45504871e-02,  1.35419034e-02,\n",
       "         4.90829022e-02,  8.42246336e-02, -9.34142424e-02,\n",
       "         1.35667768e-02,  5.92462083e-04, -7.25400726e-02,\n",
       "         1.74829650e-01, -2.12347827e-01,  1.74912699e-01],\n",
       "       [ 1.32269360e-01,  1.40961295e-01, -4.89236288e-02,\n",
       "         3.92638230e-01,  1.13308914e-01, -7.38595812e-02,\n",
       "        -2.46397669e-01,  7.05292144e-02,  4.35820321e-01,\n",
       "        -9.26824253e-02, -2.63110357e-01, -1.91850877e-01,\n",
       "         1.91655529e-02, -2.42110558e-01, -4.44757547e-01,\n",
       "        -3.85634429e-03,  2.31286523e-01, -1.03476520e-01,\n",
       "        -8.45987399e-02, -2.18266629e-01, -3.78323974e-03,\n",
       "         2.95332608e-02, -1.29686841e-02,  4.53820918e-02,\n",
       "        -1.34207836e-01,  4.79991331e-04,  5.48782653e-02,\n",
       "         1.83969403e-02, -6.28077825e-02, -1.15345938e-01],\n",
       "       [-3.71766421e-01,  5.01103997e-02,  3.95519044e-01,\n",
       "        -1.12090818e-01,  5.30660396e-02,  7.26257433e-02,\n",
       "        -3.15531733e-02,  1.39431645e-01, -2.03574593e-01,\n",
       "         5.15562834e-02, -5.05199463e-01, -6.41521331e-02,\n",
       "         1.26189763e-02, -4.84220534e-02,  1.57478300e-01,\n",
       "        -1.89851664e-04,  1.24011117e-01, -9.03694573e-02,\n",
       "         8.13177623e-02, -4.28419296e-01, -8.17781739e-02,\n",
       "        -3.33052710e-02, -3.68788120e-02, -1.86531690e-01,\n",
       "         7.39666065e-03, -3.44525297e-03, -2.44130761e-01,\n",
       "        -5.45761452e-02,  1.03369570e-01,  4.83194646e-03],\n",
       "       [-5.03034227e-02,  5.18783626e-01, -1.09242150e-01,\n",
       "         5.01293161e-01,  5.96461271e-02,  1.02546957e-02,\n",
       "         2.89126532e-01, -2.01320662e-02, -2.99853136e-01,\n",
       "         6.03789813e-02,  1.72918539e-01, -3.35793453e-01,\n",
       "        -6.02533661e-02,  6.59418249e-02,  2.06561102e-01,\n",
       "        -2.67571868e-04,  1.02190967e-01, -2.04859578e-02,\n",
       "        -6.82670173e-02, -3.42018534e-02,  3.11187688e-02,\n",
       "        -1.82356599e-01,  5.49952537e-02, -1.23622293e-01,\n",
       "        -4.49838150e-03,  3.96079708e-03,  9.82115033e-03,\n",
       "        -2.07255958e-02, -1.11340569e-01,  9.16487548e-02],\n",
       "       [ 1.14926979e-01, -9.03403184e-02, -3.21708101e-01,\n",
       "        -5.87187200e-02,  4.30836509e-02, -2.61838980e-02,\n",
       "        -9.05612512e-02,  6.42843980e-01, -2.45149929e-01,\n",
       "        -2.33945756e-01, -2.30424034e-01, -2.40867421e-01,\n",
       "        -2.38651462e-02,  3.50650382e-02,  1.65116939e-01,\n",
       "         1.45503498e-03,  5.80893364e-02, -7.54699235e-03,\n",
       "        -1.12949469e-01,  1.77702038e-01,  1.13267019e-01,\n",
       "         1.94122709e-01, -6.17005115e-03, -1.26864726e-03,\n",
       "         1.44267951e-01,  4.09855822e-03,  1.31168935e-01,\n",
       "         1.26825810e-01,  1.22664671e-01, -1.58752148e-01],\n",
       "       [ 1.08142892e-01,  3.01621083e-02, -1.58330496e-01,\n",
       "        -1.54090962e-01, -5.44724900e-03, -6.13474038e-02,\n",
       "        -1.60538834e-01,  3.09136490e-01, -7.05015868e-04,\n",
       "        -9.88706711e-02,  3.34509503e-01,  6.88042396e-02,\n",
       "        -9.99844396e-02, -5.34646946e-02, -3.80791132e-02,\n",
       "        -2.69107151e-03,  1.07433377e-01, -1.97446436e-01,\n",
       "         1.95146208e-01, -1.75937151e-01,  5.48094883e-03,\n",
       "         5.70767525e-02, -7.05343544e-02, -1.29072905e-01,\n",
       "        -1.01832002e-01,  1.17941016e-03, -4.85124152e-01,\n",
       "         6.47876007e-02, -3.77389620e-01,  3.68659416e-01],\n",
       "       [ 6.64857259e-02,  3.77637961e-01, -1.70499779e-01,\n",
       "        -2.28963848e-01, -2.39518058e-01, -9.41779408e-02,\n",
       "         3.75328164e-01,  3.48164729e-01,  2.65445806e-01,\n",
       "         3.03006116e-01, -7.67260462e-02,  1.79566541e-01,\n",
       "        -1.34984516e-02,  7.72688825e-02, -1.37122290e-04,\n",
       "         2.46963578e-03, -1.85218153e-01,  6.30567891e-04,\n",
       "         1.00061808e-01, -2.13198112e-01, -7.88927987e-02,\n",
       "         1.90529960e-02, -6.08788335e-02,  7.20392002e-02,\n",
       "        -2.92524020e-01, -1.43518940e-03,  1.46079108e-01,\n",
       "        -5.32431745e-02,  9.57735769e-02, -1.11393340e-01],\n",
       "       [ 8.21578962e-02, -3.76247880e-02,  6.13548240e-02,\n",
       "         1.03696038e-01, -7.72107443e-02, -8.64015196e-02,\n",
       "        -1.21226750e-01,  2.03917392e-01,  7.94982642e-02,\n",
       "         1.92102245e-02, -9.39201967e-02,  1.27930465e-01,\n",
       "         5.15436887e-02,  9.63567742e-03,  3.47329279e-02,\n",
       "         6.38538277e-04,  4.34605531e-02,  3.10933910e-02,\n",
       "         7.86734590e-02,  3.43748802e-01, -3.51649990e-01,\n",
       "        -6.87108913e-01,  9.42341866e-02, -1.33439953e-01,\n",
       "        -9.63289403e-02, -2.35953577e-03, -1.34601990e-01,\n",
       "         2.66932650e-01,  1.52811023e-01,  1.00897781e-02],\n",
       "       [-3.26586421e-01,  1.20708135e-01,  1.08468687e-01,\n",
       "        -6.36826592e-02, -3.56906142e-01, -1.27767991e-01,\n",
       "         4.14268779e-02,  8.66568599e-02,  2.78294242e-01,\n",
       "        -2.31831042e-01,  1.76467065e-01, -1.80398624e-01,\n",
       "        -1.64907157e-01, -8.99803959e-02, -3.36946139e-02,\n",
       "         3.04690021e-03,  1.22138203e-01, -1.69220798e-01,\n",
       "         1.83945139e-01,  1.95463116e-01, -1.52899568e-01,\n",
       "        -2.09008664e-02, -2.00252227e-01, -4.48836058e-02,\n",
       "         4.45790952e-01, -1.61951817e-03,  1.10542376e-01,\n",
       "        -2.85796073e-01,  6.49652527e-02, -1.80896898e-02],\n",
       "       [-7.05845546e-02, -1.85589167e-01, -1.86996303e-01,\n",
       "        -1.83848084e-01,  2.45217890e-01,  3.19378890e-02,\n",
       "         1.95616436e-01, -5.93579880e-02, -1.74169674e-01,\n",
       "         7.81524731e-02, -1.45367569e-01, -8.20062661e-04,\n",
       "         7.25657440e-02, -1.31954333e-01, -1.21100481e-01,\n",
       "         2.90823836e-03,  1.58490852e-01, -2.50502727e-01,\n",
       "         3.05474506e-01,  1.17188554e-02, -7.91818654e-02,\n",
       "        -2.37610075e-01, -1.17925399e-01, -8.77313111e-02,\n",
       "        -7.75540779e-03,  5.13040665e-03,  4.76188412e-01,\n",
       "         2.32971286e-03, -4.48218530e-01, -2.31801615e-02],\n",
       "       [-2.17450554e-01, -1.61883021e-01, -3.72095003e-01,\n",
       "         3.35642309e-01, -3.70994706e-01, -8.02214284e-02,\n",
       "        -4.21901896e-03, -7.79780532e-02, -1.99527884e-01,\n",
       "         4.09169575e-01, -2.72444314e-01,  1.74117211e-01,\n",
       "        -1.42044849e-02, -5.23910898e-02, -2.12984537e-01,\n",
       "         4.84018292e-03, -4.16997298e-02, -4.14557282e-02,\n",
       "         8.60892174e-02,  1.60754602e-01,  3.78573249e-02,\n",
       "         1.64433631e-01, -1.27619791e-01, -1.33482361e-02,\n",
       "         1.43292382e-01, -4.51322298e-03, -2.41560017e-01,\n",
       "         3.77430053e-02, -2.17544251e-02,  5.16911788e-02],\n",
       "       [ 1.68939569e-01,  1.61502041e-01,  2.25708534e-02,\n",
       "         1.48661127e-01,  1.89251608e-01,  5.65480319e-02,\n",
       "        -4.38355307e-02, -6.04636512e-02,  1.77569942e-02,\n",
       "        -1.82702322e-01, -2.15424569e-01, -1.08408703e-01,\n",
       "         3.84717493e-02,  4.90747198e-02,  2.29189767e-02,\n",
       "        -4.85490757e-03, -4.07114734e-01,  1.39280398e-01,\n",
       "         7.11342021e-01,  1.34028952e-01, -1.14342585e-01,\n",
       "         1.79590804e-01,  7.11502810e-02,  7.74450336e-02,\n",
       "         4.54550312e-02,  2.35640310e-03, -9.33228700e-02,\n",
       "        -6.28182747e-02,  4.74205518e-03,  4.04159193e-02],\n",
       "       [-2.16455307e-01,  7.18088025e-02,  1.86663222e-01,\n",
       "        -1.65190678e-01, -3.07787711e-01, -1.03752691e-01,\n",
       "        -8.42699097e-02, -1.03687210e-01, -2.14349931e-01,\n",
       "        -9.28269781e-02,  8.79968496e-02, -3.25634008e-01,\n",
       "        -1.48974345e-01, -7.84241334e-02, -2.28994273e-01,\n",
       "         5.99973234e-04, -6.67420115e-02,  2.75311985e-02,\n",
       "         1.02202500e-01,  1.89831538e-01,  6.83087061e-02,\n",
       "         1.44505670e-01,  6.15073770e-02, -1.07175845e-01,\n",
       "        -5.01713120e-01, -3.22630253e-03,  5.93119554e-02,\n",
       "         3.50862488e-01, -6.93087945e-02, -1.94213326e-01],\n",
       "       [ 6.58284927e-03,  2.27596757e-02, -2.88268114e-02,\n",
       "        -5.18966790e-02, -2.32368459e-01, -1.10143848e-01,\n",
       "        -1.70634296e-01,  4.17949922e-02,  3.22231152e-02,\n",
       "        -4.49512766e-02, -1.84084418e-01,  7.89861004e-02,\n",
       "        -8.83798125e-02,  2.95913577e-02,  6.65157496e-03,\n",
       "         1.46398282e-03, -7.39669643e-02,  1.18788428e-01,\n",
       "         4.08174145e-03,  1.86912484e-02,  4.10122410e-01,\n",
       "        -2.01659276e-01,  5.75600282e-01, -2.16622340e-01,\n",
       "        -2.81857746e-03,  2.58200820e-03,  9.77992054e-02,\n",
       "        -4.10422194e-01, -2.42613024e-01,  5.53584095e-02],\n",
       "       [ 4.10719651e-01, -1.30272903e-01,  1.34562638e-01,\n",
       "         1.10251662e-01, -2.44280327e-01, -4.30943860e-01,\n",
       "         9.47455262e-02, -1.64157106e-01, -1.67129262e-01,\n",
       "        -1.24823948e-01, -1.42860787e-01,  1.10835955e-01,\n",
       "        -3.41050809e-01,  4.24071141e-02,  2.18183897e-01,\n",
       "        -1.98966969e-02,  1.90595432e-01, -1.18901395e-01,\n",
       "         1.56420874e-02, -1.77201935e-01, -3.19911440e-01,\n",
       "         1.49684700e-01,  1.19234490e-01,  1.41116551e-01,\n",
       "         1.48977325e-02,  1.04556790e-03,  9.23019194e-02,\n",
       "         3.62205708e-02, -9.34416347e-02, -2.58848036e-02],\n",
       "       [-3.69486633e-02, -4.16794261e-02,  1.52387088e-01,\n",
       "         4.61970485e-02,  1.82703935e-01, -5.45001882e-01,\n",
       "         4.10143577e-03,  2.17722151e-02,  3.92193650e-03,\n",
       "         6.21328218e-02, -1.28877964e-02, -6.05875850e-02,\n",
       "         5.21315488e-02, -1.93562917e-01,  1.37942669e-01,\n",
       "         2.71879159e-04, -3.78011877e-01, -3.77413607e-01,\n",
       "        -4.82029213e-02,  5.96413820e-02,  3.95233956e-01,\n",
       "        -1.82058034e-01, -1.84609587e-01,  2.25248289e-01,\n",
       "        -2.20234376e-02, -1.23612440e-03, -5.90699794e-02,\n",
       "         1.40099234e-02,  5.54657508e-02,  3.28930025e-02],\n",
       "       [ 1.51183016e-01, -7.09659731e-03,  7.97883635e-02,\n",
       "         3.75116588e-02,  1.35729093e-01, -1.64722396e-01,\n",
       "        -4.81005667e-02, -4.08621242e-02,  2.27018768e-02,\n",
       "         1.51972205e-02, -2.63563747e-02,  4.16247864e-02,\n",
       "        -1.60626125e-01,  5.98563789e-01, -2.45587084e-01,\n",
       "        -1.77058593e-03, -1.15349009e-01, -1.06820075e-01,\n",
       "        -2.98120214e-02, -1.91083202e-02,  9.57480076e-02,\n",
       "         2.56681842e-02, -2.87263966e-01, -5.78293841e-01,\n",
       "         6.64545484e-02,  2.29477236e-02,  7.38845545e-02,\n",
       "         5.62862107e-03,  8.04180606e-02, -5.07000512e-02],\n",
       "       [-6.58773787e-04, -7.50381927e-03,  2.67172428e-03,\n",
       "         5.30124093e-03,  2.04651989e-02,  8.57665330e-03,\n",
       "         1.52605084e-01, -4.24969080e-03, -2.66948335e-03,\n",
       "        -1.94727729e-01, -1.08853148e-01,  3.58324328e-02,\n",
       "         2.18449828e-02,  4.05683275e-02,  1.51436476e-03,\n",
       "        -3.69382516e-03, -9.79142439e-02,  8.42318557e-02,\n",
       "        -1.88495387e-01,  1.33211632e-01, -9.29025505e-02,\n",
       "        -4.20036736e-02, -1.81585654e-01,  1.91699233e-02,\n",
       "        -9.65529895e-02, -7.07682705e-01, -2.54799087e-01,\n",
       "        -2.13802044e-01, -3.14360968e-01, -2.99371454e-01]])"
      ]
     },
     "execution_count": 31,
     "metadata": {},
     "output_type": "execute_result"
    }
   ],
   "source": [
    "pca.components_"
   ]
  },
  {
   "cell_type": "code",
   "execution_count": 32,
   "metadata": {},
   "outputs": [
    {
     "name": "stdout",
     "output_type": "stream",
     "text": [
      "[0.06462991 0.05728631 0.03465394 0.03457401 0.03390982 0.03365748\n",
      " 0.0335195  0.03349524 0.03348512 0.03346472 0.03342578 0.03339831\n",
      " 0.03338545 0.03335353 0.03333506 0.03331007 0.03327837 0.0332452\n",
      " 0.03322991 0.03319636 0.03317741 0.03315566 0.03311269 0.0330653\n",
      " 0.03291872 0.03285733 0.03249153 0.03242296 0.00951695]\n"
     ]
    }
   ],
   "source": [
    "var=pca.explained_variance_ratio_\n",
    "print(var)"
   ]
  },
  {
   "cell_type": "code",
   "execution_count": 33,
   "metadata": {},
   "outputs": [
    {
     "name": "stdout",
     "output_type": "stream",
     "text": [
      "[ 6.46 12.19 15.66 19.12 22.51 25.88 29.23 32.58 35.93 39.28 42.62 45.96\n",
      " 49.3  52.64 55.97 59.3  62.63 65.95 69.27 72.59 75.91 79.23 82.54 85.85\n",
      " 89.14 92.43 95.68 98.92 99.87]\n"
     ]
    }
   ],
   "source": [
    "var_cum=np.cumsum(np.round(var,decimals=4)*100)\n",
    "print(var_cum)"
   ]
  },
  {
   "cell_type": "code",
   "execution_count": 34,
   "metadata": {},
   "outputs": [
    {
     "data": {
      "text/plain": [
       "PCA(copy=True, iterated_power='auto', n_components=29, random_state=None,\n",
       "  svd_solver='auto', tol=0.0, whiten=False)"
      ]
     },
     "execution_count": 34,
     "metadata": {},
     "output_type": "execute_result"
    }
   ],
   "source": [
    "pca=PCA(n_components=29)\n",
    "pca.fit(X)"
   ]
  },
  {
   "cell_type": "code",
   "execution_count": 35,
   "metadata": {},
   "outputs": [
    {
     "data": {
      "text/html": [
       "<div>\n",
       "<style scoped>\n",
       "    .dataframe tbody tr th:only-of-type {\n",
       "        vertical-align: middle;\n",
       "    }\n",
       "\n",
       "    .dataframe tbody tr th {\n",
       "        vertical-align: top;\n",
       "    }\n",
       "\n",
       "    .dataframe thead th {\n",
       "        text-align: right;\n",
       "    }\n",
       "</style>\n",
       "<table border=\"1\" class=\"dataframe\">\n",
       "  <thead>\n",
       "    <tr style=\"text-align: right;\">\n",
       "      <th></th>\n",
       "      <th>0</th>\n",
       "      <th>1</th>\n",
       "      <th>2</th>\n",
       "      <th>3</th>\n",
       "      <th>4</th>\n",
       "      <th>5</th>\n",
       "      <th>6</th>\n",
       "      <th>7</th>\n",
       "      <th>8</th>\n",
       "      <th>9</th>\n",
       "      <th>...</th>\n",
       "      <th>19</th>\n",
       "      <th>20</th>\n",
       "      <th>21</th>\n",
       "      <th>22</th>\n",
       "      <th>23</th>\n",
       "      <th>24</th>\n",
       "      <th>25</th>\n",
       "      <th>26</th>\n",
       "      <th>27</th>\n",
       "      <th>28</th>\n",
       "    </tr>\n",
       "  </thead>\n",
       "  <tbody>\n",
       "    <tr>\n",
       "      <th>0</th>\n",
       "      <td>-0.368308</td>\n",
       "      <td>-0.121764</td>\n",
       "      <td>-0.264773</td>\n",
       "      <td>0.158526</td>\n",
       "      <td>0.057890</td>\n",
       "      <td>-0.498618</td>\n",
       "      <td>0.075798</td>\n",
       "      <td>-0.458249</td>\n",
       "      <td>-0.030778</td>\n",
       "      <td>1.532560</td>\n",
       "      <td>...</td>\n",
       "      <td>0.635497</td>\n",
       "      <td>-1.023434</td>\n",
       "      <td>-0.438112</td>\n",
       "      <td>-0.009101</td>\n",
       "      <td>0.553522</td>\n",
       "      <td>-0.599831</td>\n",
       "      <td>-0.088275</td>\n",
       "      <td>0.241185</td>\n",
       "      <td>-0.055187</td>\n",
       "      <td>-0.068687</td>\n",
       "    </tr>\n",
       "    <tr>\n",
       "      <th>1</th>\n",
       "      <td>-0.544664</td>\n",
       "      <td>-0.014191</td>\n",
       "      <td>0.242661</td>\n",
       "      <td>-0.292890</td>\n",
       "      <td>0.356839</td>\n",
       "      <td>-0.714649</td>\n",
       "      <td>-1.311593</td>\n",
       "      <td>0.028683</td>\n",
       "      <td>-0.699036</td>\n",
       "      <td>0.005902</td>\n",
       "      <td>...</td>\n",
       "      <td>-0.225827</td>\n",
       "      <td>-0.717546</td>\n",
       "      <td>0.510664</td>\n",
       "      <td>0.901841</td>\n",
       "      <td>1.223565</td>\n",
       "      <td>0.625137</td>\n",
       "      <td>-0.212912</td>\n",
       "      <td>-0.188722</td>\n",
       "      <td>-0.491670</td>\n",
       "      <td>-0.002234</td>\n",
       "    </tr>\n",
       "    <tr>\n",
       "      <th>2</th>\n",
       "      <td>-0.078233</td>\n",
       "      <td>-0.108520</td>\n",
       "      <td>-0.321621</td>\n",
       "      <td>0.183005</td>\n",
       "      <td>-0.133157</td>\n",
       "      <td>0.976648</td>\n",
       "      <td>-0.681132</td>\n",
       "      <td>0.439696</td>\n",
       "      <td>1.697727</td>\n",
       "      <td>0.574524</td>\n",
       "      <td>...</td>\n",
       "      <td>-0.183701</td>\n",
       "      <td>0.232166</td>\n",
       "      <td>-0.271956</td>\n",
       "      <td>-0.960584</td>\n",
       "      <td>0.610446</td>\n",
       "      <td>-2.698017</td>\n",
       "      <td>0.546878</td>\n",
       "      <td>0.041797</td>\n",
       "      <td>-0.013877</td>\n",
       "      <td>-0.042500</td>\n",
       "    </tr>\n",
       "    <tr>\n",
       "      <th>3</th>\n",
       "      <td>-0.426747</td>\n",
       "      <td>0.002614</td>\n",
       "      <td>-0.281747</td>\n",
       "      <td>0.003037</td>\n",
       "      <td>0.857388</td>\n",
       "      <td>-0.044145</td>\n",
       "      <td>-0.302323</td>\n",
       "      <td>0.936403</td>\n",
       "      <td>-1.275785</td>\n",
       "      <td>-0.605090</td>\n",
       "      <td>...</td>\n",
       "      <td>-1.149416</td>\n",
       "      <td>1.052161</td>\n",
       "      <td>-1.103274</td>\n",
       "      <td>0.368931</td>\n",
       "      <td>-0.514538</td>\n",
       "      <td>0.159334</td>\n",
       "      <td>-0.807983</td>\n",
       "      <td>-0.702332</td>\n",
       "      <td>-0.588997</td>\n",
       "      <td>0.076855</td>\n",
       "    </tr>\n",
       "    <tr>\n",
       "      <th>4</th>\n",
       "      <td>-0.464373</td>\n",
       "      <td>-0.106737</td>\n",
       "      <td>0.029313</td>\n",
       "      <td>-0.149565</td>\n",
       "      <td>0.288354</td>\n",
       "      <td>-0.809190</td>\n",
       "      <td>0.507980</td>\n",
       "      <td>-0.150961</td>\n",
       "      <td>0.431390</td>\n",
       "      <td>-0.195686</td>\n",
       "      <td>...</td>\n",
       "      <td>-1.199335</td>\n",
       "      <td>1.151856</td>\n",
       "      <td>0.592886</td>\n",
       "      <td>-0.283879</td>\n",
       "      <td>-0.244656</td>\n",
       "      <td>0.776137</td>\n",
       "      <td>0.119349</td>\n",
       "      <td>-0.225887</td>\n",
       "      <td>-0.363721</td>\n",
       "      <td>-0.077346</td>\n",
       "    </tr>\n",
       "  </tbody>\n",
       "</table>\n",
       "<p>5 rows × 29 columns</p>\n",
       "</div>"
      ],
      "text/plain": [
       "         0         1         2         3         4         5         6   \\\n",
       "0 -0.368308 -0.121764 -0.264773  0.158526  0.057890 -0.498618  0.075798   \n",
       "1 -0.544664 -0.014191  0.242661 -0.292890  0.356839 -0.714649 -1.311593   \n",
       "2 -0.078233 -0.108520 -0.321621  0.183005 -0.133157  0.976648 -0.681132   \n",
       "3 -0.426747  0.002614 -0.281747  0.003037  0.857388 -0.044145 -0.302323   \n",
       "4 -0.464373 -0.106737  0.029313 -0.149565  0.288354 -0.809190  0.507980   \n",
       "\n",
       "         7         8         9     ...           19        20        21  \\\n",
       "0 -0.458249 -0.030778  1.532560    ...     0.635497 -1.023434 -0.438112   \n",
       "1  0.028683 -0.699036  0.005902    ...    -0.225827 -0.717546  0.510664   \n",
       "2  0.439696  1.697727  0.574524    ...    -0.183701  0.232166 -0.271956   \n",
       "3  0.936403 -1.275785 -0.605090    ...    -1.149416  1.052161 -1.103274   \n",
       "4 -0.150961  0.431390 -0.195686    ...    -1.199335  1.151856  0.592886   \n",
       "\n",
       "         22        23        24        25        26        27        28  \n",
       "0 -0.009101  0.553522 -0.599831 -0.088275  0.241185 -0.055187 -0.068687  \n",
       "1  0.901841  1.223565  0.625137 -0.212912 -0.188722 -0.491670 -0.002234  \n",
       "2 -0.960584  0.610446 -2.698017  0.546878  0.041797 -0.013877 -0.042500  \n",
       "3  0.368931 -0.514538  0.159334 -0.807983 -0.702332 -0.588997  0.076855  \n",
       "4 -0.283879 -0.244656  0.776137  0.119349 -0.225887 -0.363721 -0.077346  \n",
       "\n",
       "[5 rows x 29 columns]"
      ]
     },
     "execution_count": 35,
     "metadata": {},
     "output_type": "execute_result"
    }
   ],
   "source": [
    "X1=pd.DataFrame(pca.transform(X))\n",
    "X1.head()"
   ]
  },
  {
   "cell_type": "code",
   "execution_count": 36,
   "metadata": {},
   "outputs": [
    {
     "data": {
      "text/plain": [
       "array([-6.52090541e-02,  2.31831168e-03, -2.38499643e-02,  4.33632198e-03,\n",
       "        3.55788561e-02,  2.00606977e-03,  3.64579992e-03,  1.91674161e-03,\n",
       "       -5.40517038e-04, -2.60626107e-03,  2.20347687e-02, -3.69312881e-02,\n",
       "        2.15364416e-01,  6.72040187e-02, -4.08056186e-02,  7.09876385e-01,\n",
       "       -1.69372390e-01, -3.89990303e-01, -1.58949092e-01,  7.45263430e-02,\n",
       "       -3.00370880e-01,  1.70103782e-01,  3.00775769e-01, -7.95135903e-02,\n",
       "       -3.47751622e-02,  1.51807155e-02, -1.44876219e-02, -7.77612306e-02,\n",
       "       -3.05189226e-03,  1.65214387e-02])"
      ]
     },
     "execution_count": 36,
     "metadata": {},
     "output_type": "execute_result"
    }
   ],
   "source": [
    "loadings=pca.components_[0]\n",
    "loadings"
   ]
  },
  {
   "cell_type": "code",
   "execution_count": 37,
   "metadata": {},
   "outputs": [
    {
     "data": {
      "text/plain": [
       "[('Cred1', -0.06520905412139413),\n",
       " ('Cred2', 0.0023183116835401307),\n",
       " ('Cred3', -0.02384996425563346),\n",
       " ('Cred4', 0.004336321980075247),\n",
       " ('Cred5', 0.03557885608391866),\n",
       " ('Cred6', 0.0020060697656301817),\n",
       " ('Dem1', 0.003645799917159891),\n",
       " ('Dem2', 0.0019167416098245303),\n",
       " ('Dem3', -0.0005405170376166291),\n",
       " ('Dem4', -0.0026062610678118736),\n",
       " ('Dem5', 0.0220347686791304),\n",
       " ('Dem6', -0.03693128810478608),\n",
       " ('Dem7', 0.21536441578793625),\n",
       " ('Dem8', 0.06720401872870167),\n",
       " ('Dem9', -0.040805618592318446),\n",
       " ('Normalised_FNT', 0.7098763848573273),\n",
       " ('Per1', -0.16937239047606575),\n",
       " ('Per2', -0.38999030272891877),\n",
       " ('Per3', -0.1589490922593039),\n",
       " ('Per4', 0.07452634299290879),\n",
       " ('Per5', -0.3003708804351012),\n",
       " ('Per6', 0.17010378188891515),\n",
       " ('Per7', 0.30077576871928124),\n",
       " ('Per8', -0.0795135902780176),\n",
       " ('Per9', -0.03477516217933313),\n",
       " ('Target', 0.015180715476601683),\n",
       " ('geo_score', -0.014487621911872943),\n",
       " ('instance_scores', -0.07776123057824959),\n",
       " ('qsets_normalized_tat', -0.003051892256504956),\n",
       " ('lambda_wt', 0.01652143869708912)]"
      ]
     },
     "execution_count": 37,
     "metadata": {},
     "output_type": "execute_result"
    }
   ],
   "source": [
    "list(zip(Training_data.columns,loadings))"
   ]
  },
  {
   "cell_type": "code",
   "execution_count": 38,
   "metadata": {},
   "outputs": [
    {
     "data": {
      "text/plain": [
       "<matplotlib.axes._subplots.AxesSubplot at 0x18fbc140a20>"
      ]
     },
     "execution_count": 38,
     "metadata": {},
     "output_type": "execute_result"
    },
    {
     "data": {
      "image/png": "[encoded data removed]",
      "text/plain": [
       "<Figure size 432x288 with 2 Axes>"
      ]
     },
     "metadata": {},
     "output_type": "display_data"
    }
   ],
   "source": [
    "sns.heatmap(X1.corr())"
   ]
  },
  {
   "cell_type": "code",
   "execution_count": 39,
   "metadata": {},
   "outputs": [],
   "source": [
    "from sklearn.ensemble import GradientBoostingClassifier\n",
    "from xgboost.sklearn import XGBClassifier"
   ]
  },
  {
   "cell_type": "code",
   "execution_count": null,
   "metadata": {},
   "outputs": [],
   "source": [
    "xgb_params={'n_estimators':[100,200,300,500,700,1000],\n",
    "            'gamma':[i/10.0 for i in range(0,5)],\n",
    "            'learning_rate':[0.01,0.05,0.1,0.3,0.5],\n",
    "          'max_depth':[2,3,4,5,6,7,8],\n",
    "          'min_child_weight':[1,2,5,10],\n",
    "          'max_delta_step':[0,1,2,5,10],\n",
    "          'subsample':[i/10.0 for i in range(5,10)],\n",
    "          'colsample_bytree':[i/10.0 for i in range(5,10)],\n",
    "          'colsample_bylevel':[i/10.0 for i in range(5,10)],\n",
    "          'reg_lambda':[1e-5,1e-2,0.1,1,100],\n",
    "          'reg_alpha':[1e-5,1e-2,0.1,1,100],\n",
    "          'scale_pos_weight':[1,2,3,4,5,6,7,8,9],\n",
    "          \n",
    "            \n",
    "        }\n",
    "\n"
   ]
  },
  {
   "cell_type": "code",
   "execution_count": null,
   "metadata": {},
   "outputs": [],
   "source": [
    "xgb=XGBClassifier(objective='binary:logistic')"
   ]
  },
  {
   "cell_type": "code",
   "execution_count": null,
   "metadata": {},
   "outputs": [],
   "source": [
    "from sklearn.model_selection import RandomizedSearchCV\n",
    "random_search=RandomizedSearchCV(xgb,scoring='roc_auc',param_distributions=xgb_params,cv=10,n_iter=1,n_jobs=-1)"
   ]
  },
  {
   "cell_type": "code",
   "execution_count": null,
   "metadata": {},
   "outputs": [],
   "source": [
    "bd_train, bd_test = train_test_split(Training_data, test_size = 0.2,random_state=2)\n",
    "\n",
    "x_train=bd_train.drop([\"Target\"],1)\n",
    "y_train=bd_train[\"Target\"]\n",
    "\n",
    "x_test=bd_test.drop([\"Target\"],1)\n",
    "y_test=bd_test[\"Target\"]"
   ]
  },
  {
   "cell_type": "code",
   "execution_count": null,
   "metadata": {},
   "outputs": [],
   "source": [
    "random_search.fit(x_train,y_train)"
   ]
  },
  {
   "cell_type": "code",
   "execution_count": null,
   "metadata": {},
   "outputs": [],
   "source": [
    "def report(results,n_top=3):\n",
    "    for i in range(1,n_top + 1):\n",
    "        candidate=np.flatnonzero(results[rank_test_score]==i)\n",
    "        for candidate in candidates:\n",
    "            print(\"Model with rank: {0}\".format(i))\n",
    "            print(\"Mean validation score: {0:.3f} (std: {1:.5f})\".format(\n",
    "                results['mean_test_score'][candidate],\n",
    "                results['std_test_score'][candidate]))\n",
    "            print(\"Parameters: {0}\".format(results['params'][candidate]))\n",
    "            print(\"\")\n"
   ]
  },
  {
   "cell_type": "code",
   "execution_count": null,
   "metadata": {},
   "outputs": [],
   "source": [
    "xgb_predict=random_search.predict(x_test)\n",
    "accuracy_score(y_test,xgb_predict)"
   ]
  },
  {
   "cell_type": "code",
   "execution_count": null,
   "metadata": {},
   "outputs": [],
   "source": [
    "from sklearn.metrics import cohen_kappa_score\n",
    "cohen_kappa_score(y_test,xgb_predict)"
   ]
  },
  {
   "cell_type": "code",
   "execution_count": null,
   "metadata": {},
   "outputs": [],
   "source": [
    "x_Test_Share=Testing_data.drop([\"Target\",\"Flag\",\"Group\",\"id\"],1)\n",
    "y_Test_Share=Testing_data[\"Target\"]"
   ]
  },
  {
   "cell_type": "code",
   "execution_count": null,
   "metadata": {},
   "outputs": [],
   "source": [
    "y_Test_Share_predicted=random_search.predict(x_Test_Share)"
   ]
  },
  {
   "cell_type": "code",
   "execution_count": null,
   "metadata": {},
   "outputs": [],
   "source": [
    "submission = pd.DataFrame({'id':Testing_data['id'],'Target':y_Test_Share_predicted})\n",
    "submission.head()"
   ]
  },
  {
   "cell_type": "code",
   "execution_count": null,
   "metadata": {},
   "outputs": [],
   "source": [
    "filename = 'R:\\DataScience\\Python\\Finacus_Data\\Data\\Data\\Finacus Prediction.csv'\n",
    "\n",
    "submission.to_csv(filename,index=False)\n",
    "\n",
    "print('Saved file: ' + filename)"
   ]
  }
 ],
 "metadata": {
  "kernelspec": {
   "display_name": "Python 3",
   "language": "python",
   "name": "python3"
  },
  "language_info": {
   "codemirror_mode": {
    "name": "ipython",
    "version": 3
   },
   "file_extension": ".py",
   "mimetype": "text/x-python",
   "name": "python",
   "nbconvert_exporter": "python",
   "pygments_lexer": "ipython3",
   "version": "3.6.4"
  }
 },
 "nbformat": 4,
 "nbformat_minor": 2
}
